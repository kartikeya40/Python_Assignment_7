{
 "cells": [
  {
   "cell_type": "markdown",
   "id": "d765a4b6",
   "metadata": {},
   "source": [
    "1.What is the name of the feature responsible for generating Regex objects?"
   ]
  },
  {
   "cell_type": "markdown",
   "id": "a70f4a3e",
   "metadata": {},
   "source": [
    "re.compile(string) can be used for creating regex objects"
   ]
  },
  {
   "cell_type": "markdown",
   "id": "2432373f",
   "metadata": {},
   "source": [
    "2.Why do raw strings often appear in Regex objects?"
   ]
  },
  {
   "cell_type": "markdown",
   "id": "505c31a9",
   "metadata": {},
   "source": [
    "Raw strings are used so that escape statment are not interpreted. Ex: - r'skjn/sd' and 'skjn//d' would mean the same thing"
   ]
  },
  {
   "cell_type": "markdown",
   "id": "992cf4d7",
   "metadata": {},
   "source": [
    "3.What is the return value of the search() method?"
   ]
  },
  {
   "cell_type": "markdown",
   "id": "d12cabba",
   "metadata": {},
   "source": [
    "It returns a Match object containing the span of the searched object"
   ]
  },
  {
   "cell_type": "markdown",
   "id": "157b2707",
   "metadata": {},
   "source": [
    "4.From a Match item, how do you get the actual strings that match the pattern?"
   ]
  },
  {
   "cell_type": "markdown",
   "id": "0b190fed",
   "metadata": {},
   "source": [
    "group() is used to return the matched output from the searched string"
   ]
  },
  {
   "cell_type": "markdown",
   "id": "9ddb6c2e",
   "metadata": {},
   "source": [
    "5.In the regex which created from the r'(\\d\\d\\d)-(\\d\\d\\d-\\d\\d\\d\\d)', what does group zero cover?\n",
    "Group 2? Group 1?"
   ]
  },
  {
   "cell_type": "code",
   "execution_count": 37,
   "id": "f2772f23",
   "metadata": {},
   "outputs": [
    {
     "name": "stdout",
     "output_type": "stream",
     "text": [
      "011-223-1232\n",
      "011\n",
      "223-1232\n"
     ]
    }
   ],
   "source": [
    "Group 0 covers the entire match, Group 1 covers the 1st set of parenthesis, and Group 1 covers the 2nd set of parenthesis\n",
    "reg=re.compile(r'(\\d\\d\\d)-(\\d\\d\\d-\\d\\d\\d\\d)')\n",
    "reg_dis=reg.search('My phone number is 011-223-1232')\n",
    "print(reg_dis.group(0))\n",
    "print(reg_dis.group(1))\n",
    "print(reg_dis.group(2))\n",
    "\n"
   ]
  },
  {
   "cell_type": "markdown",
   "id": "a6ddd70f",
   "metadata": {},
   "source": [
    "6.In standard expression syntax, parentheses and intervals have distinct meanings. How can you tell\n",
    "a regex that you want it to fit real parentheses and periods?"
   ]
  },
  {
   "cell_type": "markdown",
   "id": "37a1efec",
   "metadata": {},
   "source": [
    "Periods and parentheses can be escaped with a backslash: \\., \\(, and \\)."
   ]
  },
  {
   "cell_type": "markdown",
   "id": "b0cd75d8",
   "metadata": {},
   "source": [
    "7.The findall() method returns a string list or a list of string tuples. What causes it to return one of\n",
    "the two options?"
   ]
  },
  {
   "cell_type": "markdown",
   "id": "bee85d25",
   "metadata": {},
   "source": [
    "If the regex has no groups, a list of strings is returned. If the regex has groups, a list of tuples of strings is returned"
   ]
  },
  {
   "cell_type": "code",
   "execution_count": null,
   "id": "96f9a500",
   "metadata": {},
   "outputs": [],
   "source": [
    "8.In standard expressions, what does the | character mean?"
   ]
  },
  {
   "cell_type": "markdown",
   "id": "39417c22",
   "metadata": {},
   "source": [
    "It means OR"
   ]
  },
  {
   "cell_type": "code",
   "execution_count": null,
   "id": "000d7c91",
   "metadata": {},
   "outputs": [],
   "source": [
    "9.In regular expressions, what does the character stand for?"
   ]
  },
  {
   "cell_type": "markdown",
   "id": "0bd3d4b8",
   "metadata": {},
   "source": [
    "Incomplete question"
   ]
  },
  {
   "cell_type": "code",
   "execution_count": null,
   "id": "28a052ae",
   "metadata": {},
   "outputs": [],
   "source": [
    "10.In regular expressions, what is the difference between the + and * characters?"
   ]
  },
  {
   "cell_type": "markdown",
   "id": "57880a53",
   "metadata": {},
   "source": [
    "+ means that the occurence of that letter can vary from 1 till inf, but * means that the occurence of that letter can vary from 0 till inf"
   ]
  },
  {
   "cell_type": "code",
   "execution_count": null,
   "id": "8c120190",
   "metadata": {},
   "outputs": [],
   "source": [
    "11.What is the difference between {4} and {4,5} in regular expression?"
   ]
  },
  {
   "cell_type": "code",
   "execution_count": null,
   "id": "f8c3c88f",
   "metadata": {},
   "outputs": [],
   "source": [
    "{4} - It means that there should be 4 instances of the digit preceding the letter for a match\n",
    "{4,5}- It means that there should be 4 or 5 instances of the digit preceding the letter for a match"
   ]
  },
  {
   "cell_type": "code",
   "execution_count": null,
   "id": "02dcd6ee",
   "metadata": {},
   "outputs": [],
   "source": [
    "12.What do you mean by the \\d, \\w, and \\s shorthand character classes signify in regular\n",
    "expressions?"
   ]
  },
  {
   "cell_type": "markdown",
   "id": "4d84f43f",
   "metadata": {},
   "source": [
    "\\d - digits\n",
    "\\w - any word (a-z, A-Z, 0-9, & underscore)\n",
    "\\s - checks for white space character"
   ]
  },
  {
   "cell_type": "markdown",
   "id": "f277014d",
   "metadata": {},
   "source": [
    "13.What do means by \\D, \\W, and \\S shorthand character classes signify in regular expressions?"
   ]
  },
  {
   "cell_type": "markdown",
   "id": "fd84eb3f",
   "metadata": {},
   "source": [
    "\\D - anything excluding digits\n",
    "\\W - anything that doesn't have any word characters\n",
    "\\S - Anything except White space"
   ]
  },
  {
   "cell_type": "markdown",
   "id": "ba7e49c9",
   "metadata": {},
   "source": [
    "14.What is the difference between .*? and .*  ?"
   ]
  },
  {
   "cell_type": "markdown",
   "id": "7a73b081",
   "metadata": {},
   "source": [
    ".*? -> It performs a non-greedy search, and matches as few characters as possible\n",
    ".* -> It performs a greedy search , and matches as many characters as possible"
   ]
  },
  {
   "cell_type": "code",
   "execution_count": null,
   "id": "3e66d9c5",
   "metadata": {},
   "outputs": [],
   "source": [
    "15.What is the syntax for matching both numbers and lowercase letters with a character class?"
   ]
  },
  {
   "cell_type": "code",
   "execution_count": null,
   "id": "4ae52935",
   "metadata": {},
   "outputs": [],
   "source": [
    "re.compile(r'[a-z0-9]')"
   ]
  },
  {
   "cell_type": "markdown",
   "id": "a4464dd9",
   "metadata": {},
   "source": [
    "16.What is the procedure for making a normal expression in regax case insensitive?"
   ]
  },
  {
   "cell_type": "markdown",
   "id": "c29b5aa0",
   "metadata": {},
   "source": [
    "You can use re.IGNORECASE in compile function. Ex:- re.compile(r'.*',re.IGNORECASE)"
   ]
  },
  {
   "cell_type": "code",
   "execution_count": null,
   "id": "1945d3db",
   "metadata": {},
   "outputs": [],
   "source": [
    "17.What does the . character normally match? What does it match if re.DOTALL is passed as 2nd\n",
    "argument in re.compile()?"
   ]
  },
  {
   "cell_type": "code",
   "execution_count": null,
   "id": "dc546007",
   "metadata": {},
   "outputs": [],
   "source": [
    ". characters matches all characters excluding the newline character. Using re.DOTALL as the 2nd argument includes the newline "
   ]
  },
  {
   "cell_type": "code",
   "execution_count": null,
   "id": "a4a59479",
   "metadata": {},
   "outputs": [],
   "source": [
    "18.If numReg = re.compile(r'\\d+'), what will numRegex.sub('X', '11 drummers, 10 pipers, five rings, 4\n",
    "hen') return?"
   ]
  },
  {
   "cell_type": "markdown",
   "id": "7933f54e",
   "metadata": {},
   "source": [
    "'X drummers, X pipers, five rings, X hen'. '.sub' replaces the matching string with the replacement string "
   ]
  },
  {
   "cell_type": "code",
   "execution_count": null,
   "id": "07f0d1a7",
   "metadata": {},
   "outputs": [],
   "source": [
    "19.What does passing re.VERBOSE as the 2nd argument to re.compile() allow to do?"
   ]
  },
  {
   "cell_type": "code",
   "execution_count": null,
   "id": "d759cccf",
   "metadata": {},
   "outputs": [],
   "source": [
    "The re.VERBOSE argument allows you to add whitespace and comments to the string passed to re.compile()."
   ]
  },
  {
   "cell_type": "code",
   "execution_count": null,
   "id": "c85d1ea4",
   "metadata": {},
   "outputs": [],
   "source": [
    "20. How would you write a regex that match a number with comma for every three digits? It must\n",
    "match the given following:\n",
    "'42'\n",
    "'1,234'\n",
    "'6,368,745'\n",
    "\n",
    "but not the following:\n",
    "'12,34,567' (which has only two digits between the commas)\n",
    "'1234' (which lacks commas)"
   ]
  },
  {
   "cell_type": "code",
   "execution_count": 112,
   "id": "960131cc",
   "metadata": {},
   "outputs": [
    {
     "name": "stdout",
     "output_type": "stream",
     "text": [
      "<re.Match object; span=(0, 9), match='1,234,388'>\n"
     ]
    }
   ],
   "source": [
    "reg=re.compile(r'^\\d{1,3}(,\\d{3})*$')\n"
   ]
  },
  {
   "cell_type": "code",
   "execution_count": null,
   "id": "861c05a7",
   "metadata": {},
   "outputs": [],
   "source": [
    "21. How would you write a regex that matches the full name of someone whose last name is\n",
    "Watanabe? You can assume that the first name that comes before it will always be one word that\n",
    "begins with a capital letter. The regex must match the following:\n",
    "'Haruto Watanabe'\n",
    "'Alice Watanabe'\n",
    "'RoboCop Watanabe'\n",
    "but not the following:\n",
    "'haruto Watanabe' (where the first name is not capitalized)\n",
    "'Mr. Watanabe' (where the preceding word has a nonletter character)\n",
    "'Watanabe' (which has no first name)\n",
    "'Haruto watanabe' (where Watanabe is not capitalized)"
   ]
  },
  {
   "cell_type": "code",
   "execution_count": 124,
   "id": "c70ff92e",
   "metadata": {},
   "outputs": [
    {
     "name": "stdout",
     "output_type": "stream",
     "text": [
      "<re.Match object; span=(0, 15), match='Haruto Watanabe'>\n"
     ]
    }
   ],
   "source": [
    "str=re.compile(r'[A-Z]+[a-z]+ (Watanabe)')\n"
   ]
  },
  {
   "cell_type": "code",
   "execution_count": null,
   "id": "5d5d942d",
   "metadata": {},
   "outputs": [],
   "source": [
    "22. How would you write a regex that matches a sentence where the first word is either Alice, Bob,\n",
    "or Carol; the second word is either eats, pets, or throws; the third word is apples, cats, or baseballs;\n",
    "and the sentence ends with a period? This regex should be case-insensitive. It must match the\n",
    "following:\n",
    "'Alice eats apples.'\n",
    "'Bob pets cats.'\n",
    "'Carol throws baseballs.'\n",
    "'Alice throws Apples.'\n",
    "'BOB EATS CATS.'\n",
    "but not the following:\n",
    "'RoboCop eats apples.'\n",
    "'ALICE THROWS FOOTBALLS.'\n",
    "'Carol eats 7 cats.'"
   ]
  },
  {
   "cell_type": "code",
   "execution_count": null,
   "id": "f61162b6",
   "metadata": {},
   "outputs": [],
   "source": [
    "re.compile(r'(Alice|Bob|Carol)\\s(eats|pets|throws)\\s(apples|cats|baseballs)\\.', re.IGNORECASE)"
   ]
  },
  {
   "cell_type": "code",
   "execution_count": null,
   "id": "fa6f2620",
   "metadata": {},
   "outputs": [],
   "source": []
  },
  {
   "cell_type": "code",
   "execution_count": null,
   "id": "95190d3a",
   "metadata": {},
   "outputs": [],
   "source": []
  },
  {
   "cell_type": "code",
   "execution_count": null,
   "id": "cd62eaf7",
   "metadata": {},
   "outputs": [],
   "source": []
  },
  {
   "cell_type": "code",
   "execution_count": 100,
   "id": "8e560530",
   "metadata": {},
   "outputs": [],
   "source": [
    "str='''66% of the equity share capital of Tata Sons is held by philanthropic trusts, which support education, health, livelihood generation, and art and culture.\n",
    "\n",
    "Each Tata company or enterprise operates independently under the guidance and supervision of its own Board of Directors.\n",
    "\n",
    "Governance Philosophy\\n\n",
    "\n",
    "“The Tata philosophy of management has always been, and is today more than ever, that corporate enterprises must be managed not merely in the interests of their owners, but equally in those of their employees, of the consumers of their products, of the local community and finally of the country as a whole.” JRD Tata, 1973\n",
    "\n",
    "Our Governance Philosophy is to ensure fair, transparent, accountable and ethical management in order to protect the interests of all stakeholders, including shareholders, employees, customers, vendors, regulators and society. As a responsible corporate citizen, Tata Sons follows the laws of the land in letter and spirit. Tata Sons also goes beyond mere compliance to highlight certain behaviours and norms to Tata group operating companies\n",
    "'''"
   ]
  },
  {
   "cell_type": "code",
   "execution_count": 88,
   "id": "3c836c9d",
   "metadata": {},
   "outputs": [
    {
     "name": "stdout",
     "output_type": "stream",
     "text": [
      "<re.Match object; span=(0, 2), match='66'>\n",
      "66\n",
      "<re.Match object; span=(619, 621), match='19'>\n",
      "19\n",
      "<re.Match object; span=(621, 623), match='73'>\n",
      "73\n"
     ]
    }
   ],
   "source": [
    "import re\n",
    "#patt=re.compile(r'highlight') #item to be searched\n",
    "#patt=re.compile(r'.sophy') # . contains all the digits, and the letters after . indicates that the match should have it\n",
    "#patt=re.compile(r'^66') # Indicating that the string should start with these digits\n",
    "#patt=re.compile(r'.$')\n",
    "#patt=re.compile(r'at*') # should have 'a' and any # of occurences of t from 0 to inf\n",
    "#patt=re.compile(r'at+') # should have 'a' and any # of occurences of t from 1 to inf\n",
    "#patt=re.compile(r'at{2}') # should have 2 occurences of t\n",
    "#patt=re.compile(r'(at){2}') # () groups the digits together\n",
    "#patt=re.compile(r'(at){2} | Tata') # () return any of the 2 searches\n",
    "\n",
    "#################Special Sequences\n",
    "\n",
    "#patt=re.compile(r'\\A66') #Sees whether the string starts with the following combination\n",
    "#patt=re.compile(r'\\bTata') #Return a match where the specified is at the start of a word\n",
    "#patt=re.compile(r'Tata\\b') #Return a match where the specified is at the start of a word\n",
    "patt=re.compile(r'\\d{2}-*')\n",
    "\n",
    "matches=patt.finditer(str)\n",
    "for match in matches:\n",
    "    print(match)\n",
    "    print(match.group())"
   ]
  }
 ],
 "metadata": {
  "kernelspec": {
   "display_name": "Python 3 (ipykernel)",
   "language": "python",
   "name": "python3"
  },
  "language_info": {
   "codemirror_mode": {
    "name": "ipython",
    "version": 3
   },
   "file_extension": ".py",
   "mimetype": "text/x-python",
   "name": "python",
   "nbconvert_exporter": "python",
   "pygments_lexer": "ipython3",
   "version": "3.9.7"
  }
 },
 "nbformat": 4,
 "nbformat_minor": 5
}
